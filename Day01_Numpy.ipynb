{
  "nbformat": 4,
  "nbformat_minor": 0,
  "metadata": {
    "colab": {
      "name": "Day01: Numpy.ipynb",
      "provenance": [],
      "authorship_tag": "ABX9TyMJa2RDL7JIveOD3A4AJTGQ",
      "include_colab_link": true
    },
    "kernelspec": {
      "name": "python3",
      "display_name": "Python 3"
    },
    "language_info": {
      "name": "python"
    }
  },
  "cells": [
    {
      "cell_type": "markdown",
      "metadata": {
        "id": "view-in-github",
        "colab_type": "text"
      },
      "source": [
        "<a href=\"https://colab.research.google.com/github/sheikhsaifalislam/100DaysOfMachineLearning/blob/main/Day01_Numpy.ipynb\" target=\"_parent\"><img src=\"https://colab.research.google.com/assets/colab-badge.svg\" alt=\"Open In Colab\"/></a>"
      ]
    },
    {
      "cell_type": "markdown",
      "source": [
        "# **NUMPY**"
      ],
      "metadata": {
        "id": "iCfVJcj5iArF"
      }
    },
    {
      "cell_type": "markdown",
      "source": [
        "Python is used for multiple purposes, and at most of the time we might deal with complex mathematics formulas and equations. In order to save time in hard coding all those Mathematical equations Python provides Numpy module. Numpy stands for Numerical Python Library, and this is widely used in implementing Neural Networks and in those algorithms where complex mathematics is required."
      ],
      "metadata": {
        "id": "N-MwoPD4iENV"
      }
    },
    {
      "cell_type": "markdown",
      "source": [
        "## **Benefits of using Numpy:**\n",
        "\n",
        "\n",
        "*   An array object of arbitrary homogeneous items.\n",
        "\n",
        "*   Fast mathematical operations over arrays.\n",
        "*   Linear Algebra, Fourier Transforms, Random Number Generation.\n",
        "\n",
        "\n",
        "*   Vectorization and Broadcasting which helps to get rid of explicit for loop.\n",
        "\n"
      ],
      "metadata": {
        "id": "YCIYTVPQiMic"
      }
    },
    {
      "cell_type": "markdown",
      "source": [
        "# **Install Numpy**\n",
        "\n",
        "```\n",
        "pip install numpy\n",
        "```\n",
        "If you get no error, then numpy is successfully installed. If you get ModuleNotFoundError then it means that numpy was not installed.\n",
        "\n"
      ],
      "metadata": {
        "id": "H33TtONxi2Ed"
      }
    },
    {
      "cell_type": "code",
      "source": [
        "import numpy as np"
      ],
      "metadata": {
        "id": "5vjewTiNjJLC"
      },
      "execution_count": 1,
      "outputs": []
    },
    {
      "cell_type": "markdown",
      "source": [
        "# **Generating Array Using Numpy**"
      ],
      "metadata": {
        "id": "LuW_lvZGjNbV"
      }
    },
    {
      "cell_type": "code",
      "source": [
        "arr_ran = np.arange(0,10)\n",
        "arr_ran"
      ],
      "metadata": {
        "colab": {
          "base_uri": "https://localhost:8080/"
        },
        "id": "J-4V4ekrjSwt",
        "outputId": "44e9ae08-f7da-4c2c-ec40-b5644a762af9"
      },
      "execution_count": 6,
      "outputs": [
        {
          "output_type": "execute_result",
          "data": {
            "text/plain": [
              "array([0, 1, 2, 3, 4, 5, 6, 7, 8, 9])"
            ]
          },
          "metadata": {},
          "execution_count": 6
        }
      ]
    },
    {
      "cell_type": "code",
      "source": [
        "type(arr_ran)"
      ],
      "metadata": {
        "colab": {
          "base_uri": "https://localhost:8080/"
        },
        "id": "vrqEkJ2xj5HE",
        "outputId": "9feded81-ef7a-4f25-f9f7-7ad48d24e261"
      },
      "execution_count": 7,
      "outputs": [
        {
          "output_type": "execute_result",
          "data": {
            "text/plain": [
              "numpy.ndarray"
            ]
          },
          "metadata": {},
          "execution_count": 7
        }
      ]
    },
    {
      "cell_type": "markdown",
      "source": [
        "# **Size Of An Array**\n",
        "Size attribute is used to display the total length of the Numpy array. Don’t confuse it with length, eventhough they both does the same task the results are different, here is the proof."
      ],
      "metadata": {
        "id": "ocdjrW7wj91r"
      }
    },
    {
      "cell_type": "code",
      "source": [
        "arr = np.array(range(1,10))\n",
        "print(\"Length:\", len(arr))\n",
        "print(\"Size:\",arr.size)"
      ],
      "metadata": {
        "colab": {
          "base_uri": "https://localhost:8080/"
        },
        "id": "gcp-dhCtkDsb",
        "outputId": "7e6f0464-65bf-4488-dfb1-9730b7eaaef2"
      },
      "execution_count": 9,
      "outputs": [
        {
          "output_type": "stream",
          "name": "stdout",
          "text": [
            "Length: 9\n",
            "Size: 9\n"
          ]
        }
      ]
    },
    {
      "cell_type": "markdown",
      "source": [
        "That is really weird, I did say prints different result, but here we are getting same result."
      ],
      "metadata": {
        "id": "ZUAp8c7LkyO8"
      }
    },
    {
      "cell_type": "code",
      "source": [
        "arr = np.array([range(1,10)])\n",
        "print(\"Length:\", len(arr))\n",
        "print(\"Size:\",arr.size)"
      ],
      "metadata": {
        "colab": {
          "base_uri": "https://localhost:8080/"
        },
        "id": "YYwspDC0k0or",
        "outputId": "ee532adf-eac1-4b70-9463-2e7e8cac47f1"
      },
      "execution_count": 10,
      "outputs": [
        {
          "output_type": "stream",
          "name": "stdout",
          "text": [
            "Length: 1\n",
            "Size: 9\n"
          ]
        }
      ]
    },
    {
      "cell_type": "markdown",
      "source": [
        "What just happened here? Here we are dealing with dimensions. When we have single dimensional array, i.e., example-1. In example 1, the array was in single dimension and thus both len() and size executed the same result. But in example 2, the main hero is 2 dimension array, and len() executes 1, because it is used to deal with just 1D Array. And size is used to deal with multiple dimension. And that is the reason why we use size attribute to execute the total elements in the given array."
      ],
      "metadata": {
        "id": "GuYH93u6ls-m"
      }
    },
    {
      "cell_type": "markdown",
      "source": [
        "# **Memory Bytes Of An Array**\n",
        "\n",
        "\n",
        "```\n",
        "itemsize \n",
        "```\n",
        "gives the memory size of one element of NumPy array in bytes.\n"
      ],
      "metadata": {
        "id": "nmZPsu6Olxek"
      }
    },
    {
      "cell_type": "code",
      "source": [
        "arr = np.arange(10)\n",
        "arr.size*arr.itemsize"
      ],
      "metadata": {
        "colab": {
          "base_uri": "https://localhost:8080/"
        },
        "id": "3eU2Q-21mCFg",
        "outputId": "999c4e7a-ea8f-42e8-bcf2-130a20d8e5db"
      },
      "execution_count": 11,
      "outputs": [
        {
          "output_type": "execute_result",
          "data": {
            "text/plain": [
              "80"
            ]
          },
          "metadata": {},
          "execution_count": 11
        }
      ]
    },
    {
      "cell_type": "markdown",
      "source": [
        "# Method 2 \n",
        "\n",
        "```\n",
        "nbytes \n",
        "```   \n",
        "calculates the total bytes used by the elements of the NumPy array.\n",
        "\n"
      ],
      "metadata": {
        "id": "YbWUcwWrmgjM"
      }
    },
    {
      "cell_type": "code",
      "source": [
        "arr.nbytes"
      ],
      "metadata": {
        "colab": {
          "base_uri": "https://localhost:8080/"
        },
        "id": "JlRbykxvmwmD",
        "outputId": "21d58fce-07f8-4484-e63d-258ebde2487f"
      },
      "execution_count": 12,
      "outputs": [
        {
          "output_type": "execute_result",
          "data": {
            "text/plain": [
              "80"
            ]
          },
          "metadata": {},
          "execution_count": 12
        }
      ]
    },
    {
      "cell_type": "markdown",
      "source": [
        "# **N-Dimensional Arrays**\n",
        "N-Dimensional Arrays means Multiple Dimensional Arrays. Where N is integer value starts from 2 and ends to N(infinity value)."
      ],
      "metadata": {
        "id": "99GIh_b5m3RS"
      }
    },
    {
      "cell_type": "code",
      "source": [
        "arr_2D = np.array([[1,2,3,4],[5,6,7,8]])\n",
        "arr_2D"
      ],
      "metadata": {
        "colab": {
          "base_uri": "https://localhost:8080/"
        },
        "id": "N5DQIkXzm8lq",
        "outputId": "6190ebd3-9310-4539-f4d3-723381ee451e"
      },
      "execution_count": 13,
      "outputs": [
        {
          "output_type": "execute_result",
          "data": {
            "text/plain": [
              "array([[1, 2, 3, 4],\n",
              "       [5, 6, 7, 8]])"
            ]
          },
          "metadata": {},
          "execution_count": 13
        }
      ]
    },
    {
      "cell_type": "code",
      "source": [
        "arr_2D.ndim"
      ],
      "metadata": {
        "colab": {
          "base_uri": "https://localhost:8080/"
        },
        "id": "6swVenpInQmS",
        "outputId": "8cd45ecc-23d9-47cd-f475-fabb541a5ab1"
      },
      "execution_count": 14,
      "outputs": [
        {
          "output_type": "execute_result",
          "data": {
            "text/plain": [
              "2"
            ]
          },
          "metadata": {},
          "execution_count": 14
        }
      ]
    },
    {
      "cell_type": "code",
      "source": [
        "arr_2D.size"
      ],
      "metadata": {
        "colab": {
          "base_uri": "https://localhost:8080/"
        },
        "id": "JYRMfOq8nT8e",
        "outputId": "712ead7c-8259-413a-bad7-7a9cace1fc58"
      },
      "execution_count": 15,
      "outputs": [
        {
          "output_type": "execute_result",
          "data": {
            "text/plain": [
              "8"
            ]
          },
          "metadata": {},
          "execution_count": 15
        }
      ]
    },
    {
      "cell_type": "markdown",
      "source": [
        "To check the dimension of the numpy array we use \n",
        "\n",
        "```\n",
        "ndim\n",
        "```\n",
        "attribute.\n",
        "\n"
      ],
      "metadata": {
        "id": "E3pLJNUFnauK"
      }
    },
    {
      "cell_type": "markdown",
      "source": [
        "# Shape And Reshape An Array\n",
        "On introducing to N-dimensional array, we have come across to only size and dimension of the array. But in what matrix order is it in? The word Matrix is nothing but the collection of elements arranged in rows and columns. Furthermore, this Matrix is off different types\n",
        "\n",
        "```\n",
        "Unit Matrix(np.ones), Zero Matrix(np.zeros), Square Matrix, Identity Matrix\n",
        "```\n",
        "and many more. All matrix are different but order. An order is usually written as (row x column), to be more precise \n",
        "\n",
        "```\n",
        "(mxn)\n",
        "```\n",
        " Where m is the total number of rows and n is the total number of columns.\n",
        "\n",
        "Shape returns in Tuple i.e., (m,n) for two dimensional array, (m,n,o) for three dimensional array.\n",
        "m,n,o all are numeric value. For example: (1,2,3) or (1,2) or (2,)\n",
        "\n",
        "\n"
      ],
      "metadata": {
        "id": "7mtkIKBRnnPC"
      }
    },
    {
      "cell_type": "code",
      "source": [
        "n_arr = np.random.rand(10)\n",
        "n_arr"
      ],
      "metadata": {
        "colab": {
          "base_uri": "https://localhost:8080/"
        },
        "id": "XPyN4SmAoDg3",
        "outputId": "0d9dc5ef-521f-4549-80c1-60e953f93555"
      },
      "execution_count": 16,
      "outputs": [
        {
          "output_type": "execute_result",
          "data": {
            "text/plain": [
              "array([0.93083671, 0.92030361, 0.20177086, 0.02780393, 0.76727908,\n",
              "       0.38055481, 0.37002215, 0.13609325, 0.61900517, 0.75574268])"
            ]
          },
          "metadata": {},
          "execution_count": 16
        }
      ]
    },
    {
      "cell_type": "code",
      "source": [
        "n_arr.shape"
      ],
      "metadata": {
        "colab": {
          "base_uri": "https://localhost:8080/"
        },
        "id": "Y8yN-JN8oXvM",
        "outputId": "46229347-8816-4054-bb42-6653a475bbda"
      },
      "execution_count": 17,
      "outputs": [
        {
          "output_type": "execute_result",
          "data": {
            "text/plain": [
              "(10,)"
            ]
          },
          "metadata": {},
          "execution_count": 17
        }
      ]
    },
    {
      "cell_type": "code",
      "source": [
        "n_arr.ndim"
      ],
      "metadata": {
        "colab": {
          "base_uri": "https://localhost:8080/"
        },
        "id": "YeSqJuxFofsZ",
        "outputId": "b08a4327-4754-4f08-b1c2-661127055db3"
      },
      "execution_count": 18,
      "outputs": [
        {
          "output_type": "execute_result",
          "data": {
            "text/plain": [
              "1"
            ]
          },
          "metadata": {},
          "execution_count": 18
        }
      ]
    },
    {
      "cell_type": "markdown",
      "source": [
        "Now lets reshape this array"
      ],
      "metadata": {
        "id": "s5lkVbJwojJy"
      }
    },
    {
      "cell_type": "code",
      "source": [
        "n_arr = n_arr.reshape(2,5)"
      ],
      "metadata": {
        "id": "LG2A4xOQojzJ"
      },
      "execution_count": 19,
      "outputs": []
    },
    {
      "cell_type": "code",
      "source": [
        "n_arr"
      ],
      "metadata": {
        "colab": {
          "base_uri": "https://localhost:8080/"
        },
        "id": "dQZkapIbovlh",
        "outputId": "3ae61857-bc5a-4535-8e41-ae06b2a119e3"
      },
      "execution_count": 20,
      "outputs": [
        {
          "output_type": "execute_result",
          "data": {
            "text/plain": [
              "array([[0.93083671, 0.92030361, 0.20177086, 0.02780393, 0.76727908],\n",
              "       [0.38055481, 0.37002215, 0.13609325, 0.61900517, 0.75574268]])"
            ]
          },
          "metadata": {},
          "execution_count": 20
        }
      ]
    },
    {
      "cell_type": "code",
      "source": [
        "n_arr.shape"
      ],
      "metadata": {
        "colab": {
          "base_uri": "https://localhost:8080/"
        },
        "id": "1TIcYcJSo0aD",
        "outputId": "35919d35-5d0d-45dc-9498-488968b85a5a"
      },
      "execution_count": 21,
      "outputs": [
        {
          "output_type": "execute_result",
          "data": {
            "text/plain": [
              "(2, 5)"
            ]
          },
          "metadata": {},
          "execution_count": 21
        }
      ]
    },
    {
      "cell_type": "code",
      "source": [
        "n_arr.ndim"
      ],
      "metadata": {
        "colab": {
          "base_uri": "https://localhost:8080/"
        },
        "id": "xwBk8dIno3aR",
        "outputId": "e968326d-bd17-4ae7-9df4-f4da75779a9d"
      },
      "execution_count": 22,
      "outputs": [
        {
          "output_type": "execute_result",
          "data": {
            "text/plain": [
              "2"
            ]
          },
          "metadata": {},
          "execution_count": 22
        }
      ]
    },
    {
      "cell_type": "markdown",
      "source": [
        "As you can notice we now have a two dimension array instead of 1D array"
      ],
      "metadata": {
        "id": "Xzzos0EHo9wS"
      }
    },
    {
      "cell_type": "markdown",
      "source": [
        "**Note**: Always remember, since shape returns in tuple len(arr.shape) == arr.ndim. The length of the shape denotes the dimension of the given array. Thus len(arr.shape)== arr.ndim will return true."
      ],
      "metadata": {
        "id": "IH0FljT7o-Vq"
      }
    },
    {
      "cell_type": "code",
      "source": [
        "len(n_arr.shape)"
      ],
      "metadata": {
        "colab": {
          "base_uri": "https://localhost:8080/"
        },
        "id": "pN1NhtX6pC5B",
        "outputId": "7a55378a-a9a3-4dea-a3f8-c622b788364f"
      },
      "execution_count": 23,
      "outputs": [
        {
          "output_type": "execute_result",
          "data": {
            "text/plain": [
              "2"
            ]
          },
          "metadata": {},
          "execution_count": 23
        }
      ]
    },
    {
      "cell_type": "code",
      "source": [
        "len(n_arr.shape) == n_arr.ndim"
      ],
      "metadata": {
        "colab": {
          "base_uri": "https://localhost:8080/"
        },
        "id": "dbJGPz10pKFq",
        "outputId": "5b2edb7e-9b4f-4495-a1fa-caa6c6d5304b"
      },
      "execution_count": 24,
      "outputs": [
        {
          "output_type": "execute_result",
          "data": {
            "text/plain": [
              "True"
            ]
          },
          "metadata": {},
          "execution_count": 24
        }
      ]
    },
    {
      "cell_type": "markdown",
      "source": [
        "# This is how three dimensional array looks like."
      ],
      "metadata": {
        "id": "QyNbomWIpULx"
      }
    },
    {
      "cell_type": "code",
      "source": [
        "arr_3D = np.array([[[1,2,3],[4,5,6],[7,8,9]]])"
      ],
      "metadata": {
        "id": "xDNdtueepXNp"
      },
      "execution_count": 27,
      "outputs": []
    },
    {
      "cell_type": "code",
      "source": [
        "arr_3D"
      ],
      "metadata": {
        "colab": {
          "base_uri": "https://localhost:8080/"
        },
        "id": "rKcr0a44pnzJ",
        "outputId": "9cabafa3-6427-4085-e7c0-2ce605287355"
      },
      "execution_count": 28,
      "outputs": [
        {
          "output_type": "execute_result",
          "data": {
            "text/plain": [
              "array([[[1, 2, 3],\n",
              "        [4, 5, 6],\n",
              "        [7, 8, 9]]])"
            ]
          },
          "metadata": {},
          "execution_count": 28
        }
      ]
    },
    {
      "cell_type": "code",
      "source": [
        "arr_3D.ndim"
      ],
      "metadata": {
        "colab": {
          "base_uri": "https://localhost:8080/"
        },
        "id": "wwtbdMVGpsHT",
        "outputId": "4269e478-d73d-4c2a-cf9a-12fa6ee37b51"
      },
      "execution_count": 29,
      "outputs": [
        {
          "output_type": "execute_result",
          "data": {
            "text/plain": [
              "3"
            ]
          },
          "metadata": {},
          "execution_count": 29
        }
      ]
    },
    {
      "cell_type": "code",
      "source": [
        "arr_3D.shape"
      ],
      "metadata": {
        "colab": {
          "base_uri": "https://localhost:8080/"
        },
        "id": "OgLWMWzlpuiF",
        "outputId": "2bf2a1a8-31fa-485f-da46-73b327f3eede"
      },
      "execution_count": 30,
      "outputs": [
        {
          "output_type": "execute_result",
          "data": {
            "text/plain": [
              "(1, 3, 3)"
            ]
          },
          "metadata": {},
          "execution_count": 30
        }
      ]
    },
    {
      "cell_type": "markdown",
      "source": [
        "**How to create a Random Array?**\n",
        "\n",
        "Creating an array filled with random numbers is the most essential operation in Numpy. Sometimes when you need large size of data with bigger dimensions we commonly prefer the array with random values."
      ],
      "metadata": {
        "id": "eUKrYVRDpzeZ"
      }
    },
    {
      "cell_type": "code",
      "source": [
        "ran_arr = np.random.random(10)"
      ],
      "metadata": {
        "id": "vU2XsvzCqQ45"
      },
      "execution_count": 32,
      "outputs": []
    },
    {
      "cell_type": "code",
      "source": [
        "ran_arr"
      ],
      "metadata": {
        "colab": {
          "base_uri": "https://localhost:8080/"
        },
        "id": "zfsyjwP3qetj",
        "outputId": "4a58aa5b-5915-4cf5-848c-3c8def51abdc"
      },
      "execution_count": 33,
      "outputs": [
        {
          "output_type": "execute_result",
          "data": {
            "text/plain": [
              "array([0.53995264, 0.8669453 , 0.20654616, 0.42641873, 0.28083585,\n",
              "       0.97002954, 0.41353012, 0.1403627 , 0.71240641, 0.47086128])"
            ]
          },
          "metadata": {},
          "execution_count": 33
        }
      ]
    },
    {
      "cell_type": "code",
      "source": [
        "ran_arr = np.random.rand(5)"
      ],
      "metadata": {
        "id": "4zQY_UIiqiVR"
      },
      "execution_count": 34,
      "outputs": []
    },
    {
      "cell_type": "code",
      "source": [
        "ran_arr"
      ],
      "metadata": {
        "colab": {
          "base_uri": "https://localhost:8080/"
        },
        "id": "A2uPDiXTqmRg",
        "outputId": "b5d6b972-3bb2-4f12-f1d0-aea9828eb0e2"
      },
      "execution_count": 35,
      "outputs": [
        {
          "output_type": "execute_result",
          "data": {
            "text/plain": [
              "array([0.74871966, 0.36904451, 0.69017811, 0.00980092, 0.96158138])"
            ]
          },
          "metadata": {},
          "execution_count": 35
        }
      ]
    },
    {
      "cell_type": "code",
      "source": [
        "ran_arr = np.random.randn(5)"
      ],
      "metadata": {
        "id": "C1gsIq-Lqr0o"
      },
      "execution_count": 36,
      "outputs": []
    },
    {
      "cell_type": "code",
      "source": [
        "ran_arr"
      ],
      "metadata": {
        "colab": {
          "base_uri": "https://localhost:8080/"
        },
        "id": "FnrKRT6wqvZp",
        "outputId": "66398437-477f-428f-ecf3-44d195097af3"
      },
      "execution_count": 37,
      "outputs": [
        {
          "output_type": "execute_result",
          "data": {
            "text/plain": [
              "array([ 0.30587871, -1.00041286, -0.1213975 ,  0.59071486,  0.67102314])"
            ]
          },
          "metadata": {},
          "execution_count": 37
        }
      ]
    },
    {
      "cell_type": "markdown",
      "source": [
        "# Difference Between random.rand() vs random.random()"
      ],
      "metadata": {
        "id": "fko7ou47q9oh"
      }
    },
    {
      "cell_type": "code",
      "source": [
        "random_20_arr = np.random.random(20,3)"
      ],
      "metadata": {
        "colab": {
          "base_uri": "https://localhost:8080/",
          "height": 200
        },
        "id": "D--iW41zrCH0",
        "outputId": "915a90da-20a7-4d08-8054-f8653d88bf0d"
      },
      "execution_count": 38,
      "outputs": [
        {
          "output_type": "error",
          "ename": "TypeError",
          "evalue": "ignored",
          "traceback": [
            "\u001b[0;31m---------------------------------------------------------------------------\u001b[0m",
            "\u001b[0;31mTypeError\u001b[0m                                 Traceback (most recent call last)",
            "\u001b[0;32m<ipython-input-38-149bfc84da8c>\u001b[0m in \u001b[0;36m<module>\u001b[0;34m\u001b[0m\n\u001b[0;32m----> 1\u001b[0;31m \u001b[0mrandom_20_arr\u001b[0m \u001b[0;34m=\u001b[0m \u001b[0mnp\u001b[0m\u001b[0;34m.\u001b[0m\u001b[0mrandom\u001b[0m\u001b[0;34m.\u001b[0m\u001b[0mrandom\u001b[0m\u001b[0;34m(\u001b[0m\u001b[0;36m20\u001b[0m\u001b[0;34m,\u001b[0m\u001b[0;36m3\u001b[0m\u001b[0;34m)\u001b[0m\u001b[0;34m\u001b[0m\u001b[0;34m\u001b[0m\u001b[0m\n\u001b[0m",
            "\u001b[0;32mmtrand.pyx\u001b[0m in \u001b[0;36mnumpy.random.mtrand.RandomState.random\u001b[0;34m()\u001b[0m\n",
            "\u001b[0;31mTypeError\u001b[0m: random() takes at most 1 positional argument (2 given)"
          ]
        }
      ]
    },
    {
      "cell_type": "code",
      "source": [
        "random_20_arr= np.random.rand(20,3)"
      ],
      "metadata": {
        "id": "f0Mg2YW8rRNh"
      },
      "execution_count": 39,
      "outputs": []
    },
    {
      "cell_type": "code",
      "source": [
        "random_20_arr"
      ],
      "metadata": {
        "colab": {
          "base_uri": "https://localhost:8080/"
        },
        "id": "YbssC3ALrdLW",
        "outputId": "b41124a0-5a19-4f94-ced9-a4b38a125aa4"
      },
      "execution_count": 40,
      "outputs": [
        {
          "output_type": "execute_result",
          "data": {
            "text/plain": [
              "array([[0.94180784, 0.90944684, 0.72121886],\n",
              "       [0.78381527, 0.54672684, 0.31194149],\n",
              "       [0.62303614, 0.86637082, 0.40997036],\n",
              "       [0.23603832, 0.09197387, 0.29134287],\n",
              "       [0.87299404, 0.9823594 , 0.81677756],\n",
              "       [0.871663  , 0.49779858, 0.64981219],\n",
              "       [0.75428855, 0.53370696, 0.43589701],\n",
              "       [0.25717752, 0.7742462 , 0.91783253],\n",
              "       [0.38745494, 0.12017038, 0.8012845 ],\n",
              "       [0.03897079, 0.00891191, 0.19304572],\n",
              "       [0.31046381, 0.87547036, 0.82395898],\n",
              "       [0.55024535, 0.67918861, 0.21216221],\n",
              "       [0.23292982, 0.79190593, 0.54827428],\n",
              "       [0.26965507, 0.33894971, 0.5130991 ],\n",
              "       [0.68317511, 0.68264556, 0.17313326],\n",
              "       [0.64351131, 0.53459624, 0.67487722],\n",
              "       [0.91974012, 0.20033867, 0.39440791],\n",
              "       [0.07067283, 0.49126866, 0.76776172],\n",
              "       [0.26128455, 0.84112142, 0.91997849],\n",
              "       [0.19816726, 0.32350642, 0.22645949]])"
            ]
          },
          "metadata": {},
          "execution_count": 40
        }
      ]
    },
    {
      "cell_type": "markdown",
      "source": [
        "**np.random.random is used to return random numbers of only 1D array whereas np.random.rand works on any dimension:** ⏰"
      ],
      "metadata": {
        "id": "fphvn8ewrk3G"
      }
    },
    {
      "cell_type": "markdown",
      "source": [
        "# Indexing And Slicing Of Numpy Array\n",
        "Indexing is the method to find the element at the specific location i.e., index"
      ],
      "metadata": {
        "id": "VKgC134Trv0g"
      }
    },
    {
      "cell_type": "code",
      "source": [
        "index = np.array([[1,2,3,4],[5,6,7,8],[9,10,11,12]])"
      ],
      "metadata": {
        "id": "HmJnHiIvsAcY"
      },
      "execution_count": 45,
      "outputs": []
    },
    {
      "cell_type": "code",
      "source": [
        "index"
      ],
      "metadata": {
        "colab": {
          "base_uri": "https://localhost:8080/"
        },
        "id": "wVmmSTbDsIvZ",
        "outputId": "14ca5ba6-cb1f-4197-f9e7-cbe726716caa"
      },
      "execution_count": 46,
      "outputs": [
        {
          "output_type": "execute_result",
          "data": {
            "text/plain": [
              "array([[ 1,  2,  3,  4],\n",
              "       [ 5,  6,  7,  8],\n",
              "       [ 9, 10, 11, 12]])"
            ]
          },
          "metadata": {},
          "execution_count": 46
        }
      ]
    },
    {
      "cell_type": "code",
      "source": [
        "index.shape #3rows 4 columns"
      ],
      "metadata": {
        "colab": {
          "base_uri": "https://localhost:8080/"
        },
        "id": "1g8xh19WsMlZ",
        "outputId": "d25b80d0-b491-4e16-a0d8-1f48449f3a01"
      },
      "execution_count": 47,
      "outputs": [
        {
          "output_type": "execute_result",
          "data": {
            "text/plain": [
              "(3, 4)"
            ]
          },
          "metadata": {},
          "execution_count": 47
        }
      ]
    },
    {
      "cell_type": "code",
      "source": [
        "index[0][0] #returns the first index from the first row"
      ],
      "metadata": {
        "colab": {
          "base_uri": "https://localhost:8080/"
        },
        "id": "7LMWBQ9rsbNJ",
        "outputId": "6e2d8c3e-e4f8-4441-8a65-4681e8435d18"
      },
      "execution_count": 48,
      "outputs": [
        {
          "output_type": "execute_result",
          "data": {
            "text/plain": [
              "1"
            ]
          },
          "metadata": {},
          "execution_count": 48
        }
      ]
    },
    {
      "cell_type": "code",
      "source": [
        "index[0]        #returns first row"
      ],
      "metadata": {
        "colab": {
          "base_uri": "https://localhost:8080/"
        },
        "id": "tMZwClFysvc7",
        "outputId": "1e23f1e0-c628-4c61-cc39-4b1b7288d4f3"
      },
      "execution_count": 49,
      "outputs": [
        {
          "output_type": "execute_result",
          "data": {
            "text/plain": [
              "array([1, 2, 3, 4])"
            ]
          },
          "metadata": {},
          "execution_count": 49
        }
      ]
    },
    {
      "cell_type": "code",
      "source": [
        "index[-1]"
      ],
      "metadata": {
        "colab": {
          "base_uri": "https://localhost:8080/"
        },
        "id": "rw9br2j9s29A",
        "outputId": "eb405536-22cd-4731-a703-8ff8e31f9136"
      },
      "execution_count": 50,
      "outputs": [
        {
          "output_type": "execute_result",
          "data": {
            "text/plain": [
              "array([ 9, 10, 11, 12])"
            ]
          },
          "metadata": {},
          "execution_count": 50
        }
      ]
    },
    {
      "cell_type": "markdown",
      "source": [
        "Slicing is the method that is used to select the specific sequence of elements from the array\n",
        "\n",
        "Syntax to slice: array[row_start:row_end,column_start:column_end]"
      ],
      "metadata": {
        "id": "pxXtWAqctEwo"
      }
    },
    {
      "cell_type": "code",
      "source": [
        "slice = index"
      ],
      "metadata": {
        "id": "rxj9qlZGtF0v"
      },
      "execution_count": 51,
      "outputs": []
    },
    {
      "cell_type": "code",
      "source": [
        "slice"
      ],
      "metadata": {
        "colab": {
          "base_uri": "https://localhost:8080/"
        },
        "id": "wGlcVbUOtJt7",
        "outputId": "53a08d84-b0c1-44f0-a4b3-ff0455375a8c"
      },
      "execution_count": 52,
      "outputs": [
        {
          "output_type": "execute_result",
          "data": {
            "text/plain": [
              "array([[ 1,  2,  3,  4],\n",
              "       [ 5,  6,  7,  8],\n",
              "       [ 9, 10, 11, 12]])"
            ]
          },
          "metadata": {},
          "execution_count": 52
        }
      ]
    },
    {
      "cell_type": "code",
      "source": [
        "slice[0:2] #to select first 2 rows"
      ],
      "metadata": {
        "colab": {
          "base_uri": "https://localhost:8080/"
        },
        "id": "KLWyqJk6tNKq",
        "outputId": "bba7753b-6e5f-4bab-f64b-3fb4d3c4ea56"
      },
      "execution_count": 53,
      "outputs": [
        {
          "output_type": "execute_result",
          "data": {
            "text/plain": [
              "array([[1, 2, 3, 4],\n",
              "       [5, 6, 7, 8]])"
            ]
          },
          "metadata": {},
          "execution_count": 53
        }
      ]
    },
    {
      "cell_type": "code",
      "source": [
        "slice[1:2, 0:2]   #2nd row[5,6,7,8] and 0 to 1 column[5,6]"
      ],
      "metadata": {
        "colab": {
          "base_uri": "https://localhost:8080/"
        },
        "id": "O1GFaFN0tfaH",
        "outputId": "17b54540-a7be-47c4-e911-f234c5cc7a76"
      },
      "execution_count": 54,
      "outputs": [
        {
          "output_type": "execute_result",
          "data": {
            "text/plain": [
              "array([[5, 6]])"
            ]
          },
          "metadata": {},
          "execution_count": 54
        }
      ]
    },
    {
      "cell_type": "code",
      "source": [
        "slice[[0,-1]]"
      ],
      "metadata": {
        "colab": {
          "base_uri": "https://localhost:8080/"
        },
        "id": "Hpx2sI5TtnVk",
        "outputId": "db954468-8864-4e7e-9772-c50cc590e2d3"
      },
      "execution_count": 55,
      "outputs": [
        {
          "output_type": "execute_result",
          "data": {
            "text/plain": [
              "array([[ 1,  2,  3,  4],\n",
              "       [ 9, 10, 11, 12]])"
            ]
          },
          "metadata": {},
          "execution_count": 55
        }
      ]
    },
    {
      "cell_type": "code",
      "source": [
        "slice[0:,-1] #last column"
      ],
      "metadata": {
        "colab": {
          "base_uri": "https://localhost:8080/"
        },
        "id": "udCbNCNvtsu4",
        "outputId": "a79e0f5a-f89b-4dc0-ed92-be24f7ccbd43"
      },
      "execution_count": 56,
      "outputs": [
        {
          "output_type": "execute_result",
          "data": {
            "text/plain": [
              "array([ 4,  8, 12])"
            ]
          },
          "metadata": {},
          "execution_count": 56
        }
      ]
    },
    {
      "cell_type": "markdown",
      "source": [
        "Using step size i.e., the third slice index:\n",
        "\n",
        "Syntax to slice_range: array[row_start:row_end:row_step,column_start:column_end:column_step]"
      ],
      "metadata": {
        "id": "ZKeDS407t67o"
      }
    },
    {
      "cell_type": "code",
      "source": [
        "slice[0::2,-1:]  #check the last column and select alternative postion"
      ],
      "metadata": {
        "colab": {
          "base_uri": "https://localhost:8080/"
        },
        "id": "zWAGnFAct79i",
        "outputId": "94462e58-908b-44db-83ab-4a8a94065dc4"
      },
      "execution_count": 57,
      "outputs": [
        {
          "output_type": "execute_result",
          "data": {
            "text/plain": [
              "array([[ 4],\n",
              "       [12]])"
            ]
          },
          "metadata": {},
          "execution_count": 57
        }
      ]
    },
    {
      "cell_type": "code",
      "source": [
        "slice[0:3:2,0:-1:2]"
      ],
      "metadata": {
        "colab": {
          "base_uri": "https://localhost:8080/"
        },
        "id": "tDrYvtT1uGL7",
        "outputId": "e9cfe664-7021-44e5-bb5a-534a5c338f12"
      },
      "execution_count": 58,
      "outputs": [
        {
          "output_type": "execute_result",
          "data": {
            "text/plain": [
              "array([[ 1,  3],\n",
              "       [ 9, 11]])"
            ]
          },
          "metadata": {},
          "execution_count": 58
        }
      ]
    },
    {
      "cell_type": "code",
      "source": [
        "slice"
      ],
      "metadata": {
        "colab": {
          "base_uri": "https://localhost:8080/"
        },
        "id": "eFcfDBCmuHwf",
        "outputId": "44537279-fa27-4497-847e-5a084d4eb2b6"
      },
      "execution_count": 59,
      "outputs": [
        {
          "output_type": "execute_result",
          "data": {
            "text/plain": [
              "array([[ 1,  2,  3,  4],\n",
              "       [ 5,  6,  7,  8],\n",
              "       [ 9, 10, 11, 12]])"
            ]
          },
          "metadata": {},
          "execution_count": 59
        }
      ]
    },
    {
      "cell_type": "markdown",
      "source": [
        "# **Transpose Of The Array**\n",
        "Transpose of the matrix is the interchange of row and column elements. Transpose of the matrix also effects the shape of an array. For instance if the original array as 3 rows and 2 columns then the transpose of the matrix will have 2 rows and 3 columns.\n",
        "\n",
        "Syntax: arr.T"
      ],
      "metadata": {
        "id": "hDbmw0geuOTq"
      }
    },
    {
      "cell_type": "code",
      "source": [
        "two_dim_arr = np.array([[10,20,30,40],[50,60,70,80]])\n",
        "two_dim_arr"
      ],
      "metadata": {
        "colab": {
          "base_uri": "https://localhost:8080/"
        },
        "id": "tNL1-XxRuTup",
        "outputId": "d116075e-71f5-4f0e-93dc-b1974b88acb7"
      },
      "execution_count": 60,
      "outputs": [
        {
          "output_type": "execute_result",
          "data": {
            "text/plain": [
              "array([[10, 20, 30, 40],\n",
              "       [50, 60, 70, 80]])"
            ]
          },
          "metadata": {},
          "execution_count": 60
        }
      ]
    },
    {
      "cell_type": "code",
      "source": [
        "two_dim_arr.shape"
      ],
      "metadata": {
        "colab": {
          "base_uri": "https://localhost:8080/"
        },
        "id": "j8vijvueudoz",
        "outputId": "b649f517-3149-4973-a4a4-3fdee9fb6fc4"
      },
      "execution_count": 61,
      "outputs": [
        {
          "output_type": "execute_result",
          "data": {
            "text/plain": [
              "(2, 4)"
            ]
          },
          "metadata": {},
          "execution_count": 61
        }
      ]
    },
    {
      "cell_type": "code",
      "source": [
        "two_dim_arr.T"
      ],
      "metadata": {
        "colab": {
          "base_uri": "https://localhost:8080/"
        },
        "id": "uInJg4a0ufYB",
        "outputId": "f28b65b3-6424-4b1b-a1ca-6f56caf0b458"
      },
      "execution_count": 62,
      "outputs": [
        {
          "output_type": "execute_result",
          "data": {
            "text/plain": [
              "array([[10, 50],\n",
              "       [20, 60],\n",
              "       [30, 70],\n",
              "       [40, 80]])"
            ]
          },
          "metadata": {},
          "execution_count": 62
        }
      ]
    },
    {
      "cell_type": "code",
      "source": [
        "two_dim_arr.T.shape"
      ],
      "metadata": {
        "colab": {
          "base_uri": "https://localhost:8080/"
        },
        "id": "iHD3EWACuhJH",
        "outputId": "76b9250c-ddb0-41e8-cc8d-a6e47e036612"
      },
      "execution_count": 63,
      "outputs": [
        {
          "output_type": "execute_result",
          "data": {
            "text/plain": [
              "(4, 2)"
            ]
          },
          "metadata": {},
          "execution_count": 63
        }
      ]
    },
    {
      "cell_type": "markdown",
      "source": [
        "The matrix order of original array is (2,4), as per the definition of Transpose Matrix, the transpose shape will be (4,2)."
      ],
      "metadata": {
        "id": "18BtPlS7ukWa"
      }
    },
    {
      "cell_type": "markdown",
      "source": [
        "**Mean, Media, Variance and Standard Deviation**\n",
        "\n",
        "Mean, Median, Variance and Standard Deviation, these concepts are considered to be types of Descriptive Statistics. Statistics? Yes it brings back the school days. There are two types of descriptive statistics, measures of central tendency and measures of spread. The mean, median and mode are all measures of central tendency, while the variance and standard deviation are measures of spread. Let us look into individual definitions."
      ],
      "metadata": {
        "id": "GkORBbmhulJn"
      }
    },
    {
      "cell_type": "code",
      "source": [
        "marks = [65,78,94,66,88,80,91]\n",
        "marks = np.array(marks)\n",
        "marks"
      ],
      "metadata": {
        "colab": {
          "base_uri": "https://localhost:8080/"
        },
        "id": "HF4C1s_6uq6w",
        "outputId": "758df524-76c3-4532-fb7b-b80bfab131e7"
      },
      "execution_count": 64,
      "outputs": [
        {
          "output_type": "execute_result",
          "data": {
            "text/plain": [
              "array([65, 78, 94, 66, 88, 80, 91])"
            ]
          },
          "metadata": {},
          "execution_count": 64
        }
      ]
    },
    {
      "cell_type": "markdown",
      "source": [
        "**Mean**\n",
        "\n",
        "Mean is used to calculate the arithmetic average of the given data. It would only be used on quantitative data."
      ],
      "metadata": {
        "id": "-KV6r3WOuvBe"
      }
    },
    {
      "cell_type": "code",
      "source": [
        "mean = np.mean(marks)\n",
        "mean"
      ],
      "metadata": {
        "colab": {
          "base_uri": "https://localhost:8080/"
        },
        "id": "zCK_De1Tu0wP",
        "outputId": "50226443-50f8-4ebf-db33-737778488821"
      },
      "execution_count": 65,
      "outputs": [
        {
          "output_type": "execute_result",
          "data": {
            "text/plain": [
              "80.28571428571429"
            ]
          },
          "metadata": {},
          "execution_count": 65
        }
      ]
    },
    {
      "cell_type": "code",
      "source": [
        "alternative_mean = sum(marks)/len(marks)\n",
        "alternative_mean"
      ],
      "metadata": {
        "colab": {
          "base_uri": "https://localhost:8080/"
        },
        "id": "fMc9VZIpu_qQ",
        "outputId": "e76aac80-453e-42c2-a14a-c4f3338995d5"
      },
      "execution_count": 66,
      "outputs": [
        {
          "output_type": "execute_result",
          "data": {
            "text/plain": [
              "80.28571428571429"
            ]
          },
          "metadata": {},
          "execution_count": 66
        }
      ]
    },
    {
      "cell_type": "markdown",
      "source": [
        "**Median**\n",
        "\n",
        "The median is the middle number in a sorted, ascending or descending, list of numbers and can be more descriptive of that data set than the average."
      ],
      "metadata": {
        "id": "xxwbKV-HvKgu"
      }
    },
    {
      "cell_type": "code",
      "source": [
        "median = np.median(marks)"
      ],
      "metadata": {
        "id": "P51H8OfLvNn-"
      },
      "execution_count": 67,
      "outputs": []
    },
    {
      "cell_type": "code",
      "source": [
        "median"
      ],
      "metadata": {
        "colab": {
          "base_uri": "https://localhost:8080/"
        },
        "id": "GVkUx2M_vR5Y",
        "outputId": "61702692-a4ff-4c61-f517-c45ca4a59bf1"
      },
      "execution_count": 68,
      "outputs": [
        {
          "output_type": "execute_result",
          "data": {
            "text/plain": [
              "80.0"
            ]
          },
          "metadata": {},
          "execution_count": 68
        }
      ]
    },
    {
      "cell_type": "code",
      "source": [
        "marks.sort()\n",
        "alternative_median = marks[len(marks)//2]\n",
        "print(alternative_median)"
      ],
      "metadata": {
        "colab": {
          "base_uri": "https://localhost:8080/"
        },
        "id": "nWozdPBBvcAj",
        "outputId": "62dbcbcd-e11a-4a60-9fbf-59f5c7c6d6ea"
      },
      "execution_count": 69,
      "outputs": [
        {
          "output_type": "stream",
          "name": "stdout",
          "text": [
            "80\n"
          ]
        }
      ]
    },
    {
      "cell_type": "markdown",
      "source": [
        "**Variance**\n",
        "\n",
        "Variance is the sum of squares of differences between all numbers and means. It also defined as the average of the squares of the differences between the individual (observed) and the expected value."
      ],
      "metadata": {
        "id": "Gy-h8EnWveo8"
      }
    },
    {
      "cell_type": "code",
      "source": [
        "variance = np.var(marks)\n",
        "variance"
      ],
      "metadata": {
        "colab": {
          "base_uri": "https://localhost:8080/"
        },
        "id": "ZFbK59asvgSt",
        "outputId": "22bb1dbe-326a-4b6a-bfee-5eb43a4cbd2e"
      },
      "execution_count": 70,
      "outputs": [
        {
          "output_type": "execute_result",
          "data": {
            "text/plain": [
              "115.06122448979592"
            ]
          },
          "metadata": {},
          "execution_count": 70
        }
      ]
    },
    {
      "cell_type": "code",
      "source": [
        "sum = 0\n",
        "for i in marks:\n",
        "    sum += (i-marks.sum()/len(marks))**2\n",
        "\n",
        "alternative_variance = sum/len(marks)\n",
        "print(\"%.4f\"%alternative_variance)"
      ],
      "metadata": {
        "colab": {
          "base_uri": "https://localhost:8080/"
        },
        "id": "yAcqIAF9vvKv",
        "outputId": "c9698222-2ab4-48fb-b92b-de6ebe489a61"
      },
      "execution_count": 71,
      "outputs": [
        {
          "output_type": "stream",
          "name": "stdout",
          "text": [
            "115.0612\n"
          ]
        }
      ]
    },
    {
      "cell_type": "markdown",
      "source": [
        "**Standard Deviation**\n",
        "\n",
        "It is a measure of the extent to which data varies from the mean."
      ],
      "metadata": {
        "id": "NMImtEn2v3qo"
      }
    },
    {
      "cell_type": "code",
      "source": [
        "std_deviation = np.std(marks)\n",
        "print(std_deviation)"
      ],
      "metadata": {
        "colab": {
          "base_uri": "https://localhost:8080/"
        },
        "id": "mhojkUMGv5yn",
        "outputId": "31cc53a6-5d6d-4abc-a921-83cb7023bed3"
      },
      "execution_count": 72,
      "outputs": [
        {
          "output_type": "stream",
          "name": "stdout",
          "text": [
            "10.726659521481789\n"
          ]
        }
      ]
    },
    {
      "cell_type": "code",
      "source": [
        "alternative_std = np.sqrt(alternative_variance)\n",
        "print(\"%.4f\"%alternative_std)"
      ],
      "metadata": {
        "colab": {
          "base_uri": "https://localhost:8080/"
        },
        "id": "D8RggB9ev_GC",
        "outputId": "5b56bb0f-d463-4a0b-eb8d-77250ec75849"
      },
      "execution_count": 73,
      "outputs": [
        {
          "output_type": "stream",
          "name": "stdout",
          "text": [
            "10.7267\n"
          ]
        }
      ]
    },
    {
      "cell_type": "markdown",
      "source": [
        "**What Is Linspace?**\n",
        "\n",
        "Linspace divides a sequence evenly between start and end based on the step value."
      ],
      "metadata": {
        "id": "I5WFpUvWwBin"
      }
    },
    {
      "cell_type": "code",
      "source": [
        "distibution = np.linspace(0,100,5)\n",
        "distibution"
      ],
      "metadata": {
        "colab": {
          "base_uri": "https://localhost:8080/"
        },
        "id": "TXiMJvcLwDY3",
        "outputId": "9d08452b-d987-436b-b5da-329512b9084d"
      },
      "execution_count": 74,
      "outputs": [
        {
          "output_type": "execute_result",
          "data": {
            "text/plain": [
              "array([  0.,  25.,  50.,  75., 100.])"
            ]
          },
          "metadata": {},
          "execution_count": 74
        }
      ]
    },
    {
      "cell_type": "code",
      "source": [
        "distibution = np.linspace(0,100,2)\n",
        "distibution"
      ],
      "metadata": {
        "colab": {
          "base_uri": "https://localhost:8080/"
        },
        "id": "UrIDyeOewHxX",
        "outputId": "245bc595-884d-49b0-e99b-017a680f1964"
      },
      "execution_count": 75,
      "outputs": [
        {
          "output_type": "execute_result",
          "data": {
            "text/plain": [
              "array([  0., 100.])"
            ]
          },
          "metadata": {},
          "execution_count": 75
        }
      ]
    },
    {
      "cell_type": "markdown",
      "source": [
        "There are 3 important NumPy method to be familiarize with: \n",
        "1. Sum of Numpy Array\n",
        "2. Matrix Multiplication or Dot Product\n",
        "3. Exponential and Logarithms"
      ],
      "metadata": {
        "id": "IDl3d2frwPRh"
      }
    },
    {
      "cell_type": "markdown",
      "source": [
        "# Sum of Array: Both Vertical and Horizontal"
      ],
      "metadata": {
        "id": "V_bjRNZewVVv"
      }
    },
    {
      "cell_type": "code",
      "source": [
        "sum_arr_eg = np.array([[1,1,1],[2,2,2],[3,3,3],[4,4,4]])"
      ],
      "metadata": {
        "id": "uMdKB4WcwbGQ"
      },
      "execution_count": 76,
      "outputs": []
    },
    {
      "cell_type": "code",
      "source": [
        "sum_arr_eg"
      ],
      "metadata": {
        "colab": {
          "base_uri": "https://localhost:8080/"
        },
        "id": "A1DqBuSEwdjS",
        "outputId": "fcdafe42-aae5-4f98-d731-8c30eea684cc"
      },
      "execution_count": 77,
      "outputs": [
        {
          "output_type": "execute_result",
          "data": {
            "text/plain": [
              "array([[1, 1, 1],\n",
              "       [2, 2, 2],\n",
              "       [3, 3, 3],\n",
              "       [4, 4, 4]])"
            ]
          },
          "metadata": {},
          "execution_count": 77
        }
      ]
    },
    {
      "cell_type": "code",
      "source": [
        "sum_arr_eg.sum()  #calculates the entire sum"
      ],
      "metadata": {
        "colab": {
          "base_uri": "https://localhost:8080/"
        },
        "id": "YEuW8riCwfhf",
        "outputId": "4d9b177a-f1b9-4dee-e673-1c99a97d16d8"
      },
      "execution_count": 78,
      "outputs": [
        {
          "output_type": "execute_result",
          "data": {
            "text/plain": [
              "30"
            ]
          },
          "metadata": {},
          "execution_count": 78
        }
      ]
    },
    {
      "cell_type": "code",
      "source": [
        "sum_arr_eg.sum(axis=0) #0 goes downwards "
      ],
      "metadata": {
        "colab": {
          "base_uri": "https://localhost:8080/"
        },
        "id": "gCTvPOO3wgVx",
        "outputId": "8b0076d4-0f67-4877-f173-48afd4ddf6db"
      },
      "execution_count": 79,
      "outputs": [
        {
          "output_type": "execute_result",
          "data": {
            "text/plain": [
              "array([10, 10, 10])"
            ]
          },
          "metadata": {},
          "execution_count": 79
        }
      ]
    },
    {
      "cell_type": "code",
      "source": [
        "sum_arr_eg.sum(axis=1) #1 goes sidewards"
      ],
      "metadata": {
        "colab": {
          "base_uri": "https://localhost:8080/"
        },
        "id": "iCrmINWuwjlv",
        "outputId": "7a509372-cd19-4a6a-f729-5eb6af4bc3b4"
      },
      "execution_count": 80,
      "outputs": [
        {
          "output_type": "execute_result",
          "data": {
            "text/plain": [
              "array([ 3,  6,  9, 12])"
            ]
          },
          "metadata": {},
          "execution_count": 80
        }
      ]
    },
    {
      "cell_type": "markdown",
      "source": [
        "**Matrix Multiplication And Dot Product**"
      ],
      "metadata": {
        "id": "5ZNC4B0qwlqq"
      }
    },
    {
      "cell_type": "code",
      "source": [
        "w = np.random.rand(2,3) #mxn = 2x3\n",
        "x = np.random.rand(3,1) #mxn = 3x1\n",
        "#matrix mul = 2x3,3x1 = 2,1\n",
        "#lets see the dimension"
      ],
      "metadata": {
        "id": "70f22WgkwnEn"
      },
      "execution_count": 81,
      "outputs": []
    },
    {
      "cell_type": "code",
      "source": [
        "w"
      ],
      "metadata": {
        "colab": {
          "base_uri": "https://localhost:8080/"
        },
        "id": "phzKTLyowqVS",
        "outputId": "69b1c125-b82f-40bb-d953-8e20637933a6"
      },
      "execution_count": 82,
      "outputs": [
        {
          "output_type": "execute_result",
          "data": {
            "text/plain": [
              "array([[0.66641083, 0.99333269, 0.87783189],\n",
              "       [0.74723326, 0.89567861, 0.9795709 ]])"
            ]
          },
          "metadata": {},
          "execution_count": 82
        }
      ]
    },
    {
      "cell_type": "code",
      "source": [
        "x"
      ],
      "metadata": {
        "colab": {
          "base_uri": "https://localhost:8080/"
        },
        "id": "48grePMZwrmx",
        "outputId": "d5814757-d46f-4bfe-f719-a241f8782ebc"
      },
      "execution_count": 83,
      "outputs": [
        {
          "output_type": "execute_result",
          "data": {
            "text/plain": [
              "array([[0.70388223],\n",
              "       [0.86764101],\n",
              "       [0.24878351]])"
            ]
          },
          "metadata": {},
          "execution_count": 83
        }
      ]
    },
    {
      "cell_type": "code",
      "source": [
        "matrix_mul = np.matmul(w,x)\n",
        "matrix_mul"
      ],
      "metadata": {
        "colab": {
          "base_uri": "https://localhost:8080/"
        },
        "id": "3aLPTbQ3wxBZ",
        "outputId": "2a702e70-fe81-4e6e-aa10-89050811a220"
      },
      "execution_count": 84,
      "outputs": [
        {
          "output_type": "execute_result",
          "data": {
            "text/plain": [
              "array([[1.54932102],\n",
              "       [1.54679279]])"
            ]
          },
          "metadata": {},
          "execution_count": 84
        }
      ]
    },
    {
      "cell_type": "code",
      "source": [
        "matrix_mul.shape"
      ],
      "metadata": {
        "colab": {
          "base_uri": "https://localhost:8080/"
        },
        "id": "zb7V_xttw2SS",
        "outputId": "7e76bbde-d8da-4e05-950e-3601c2a42ea4"
      },
      "execution_count": 85,
      "outputs": [
        {
          "output_type": "execute_result",
          "data": {
            "text/plain": [
              "(2, 1)"
            ]
          },
          "metadata": {},
          "execution_count": 85
        }
      ]
    },
    {
      "cell_type": "code",
      "source": [
        "dot_product = np.dot(w,x)\n",
        "dot_product"
      ],
      "metadata": {
        "colab": {
          "base_uri": "https://localhost:8080/"
        },
        "id": "be34axC3w6r4",
        "outputId": "4a376c18-b3bf-4c1b-b011-d782669f1fa2"
      },
      "execution_count": 86,
      "outputs": [
        {
          "output_type": "execute_result",
          "data": {
            "text/plain": [
              "array([[1.54932102],\n",
              "       [1.54679279]])"
            ]
          },
          "metadata": {},
          "execution_count": 86
        }
      ]
    },
    {
      "cell_type": "markdown",
      "source": [
        "# Exponential And Logarithms"
      ],
      "metadata": {
        "id": "wGIFIO1ExBqP"
      }
    },
    {
      "cell_type": "code",
      "source": [
        "np.exp(2)"
      ],
      "metadata": {
        "colab": {
          "base_uri": "https://localhost:8080/"
        },
        "id": "ybv6Vsi8xCgI",
        "outputId": "2e503667-e637-4e80-fec2-ca3585b825fc"
      },
      "execution_count": 87,
      "outputs": [
        {
          "output_type": "execute_result",
          "data": {
            "text/plain": [
              "7.38905609893065"
            ]
          },
          "metadata": {},
          "execution_count": 87
        }
      ]
    },
    {
      "cell_type": "code",
      "source": [
        "y = 1.4\n",
        "m = 3\n",
        "c = 0.4\n",
        "z = y*m + c\n",
        "sigmoid = 1/(1+np.exp(-z))\n",
        "sigmoid"
      ],
      "metadata": {
        "colab": {
          "base_uri": "https://localhost:8080/"
        },
        "id": "mHFB45UPxG1P",
        "outputId": "ba57738d-811f-43c1-afb2-1b1405119196"
      },
      "execution_count": 88,
      "outputs": [
        {
          "output_type": "execute_result",
          "data": {
            "text/plain": [
              "0.9900481981330957"
            ]
          },
          "metadata": {},
          "execution_count": 88
        }
      ]
    },
    {
      "cell_type": "code",
      "source": [
        "np.log(10)"
      ],
      "metadata": {
        "colab": {
          "base_uri": "https://localhost:8080/"
        },
        "id": "VpC5yHszxMva",
        "outputId": "7f29632d-8bb9-4b40-c55a-45841a6b6604"
      },
      "execution_count": 89,
      "outputs": [
        {
          "output_type": "execute_result",
          "data": {
            "text/plain": [
              "2.302585092994046"
            ]
          },
          "metadata": {},
          "execution_count": 89
        }
      ]
    },
    {
      "cell_type": "code",
      "source": [
        "np.log2(10)"
      ],
      "metadata": {
        "colab": {
          "base_uri": "https://localhost:8080/"
        },
        "id": "Oy-uPOf9xPZH",
        "outputId": "78354eed-8099-4471-9f96-fc278ec8b32f"
      },
      "execution_count": 90,
      "outputs": [
        {
          "output_type": "execute_result",
          "data": {
            "text/plain": [
              "3.321928094887362"
            ]
          },
          "metadata": {},
          "execution_count": 90
        }
      ]
    },
    {
      "cell_type": "code",
      "source": [
        "np.log2(2)"
      ],
      "metadata": {
        "colab": {
          "base_uri": "https://localhost:8080/"
        },
        "id": "-m-H0U1RxRIj",
        "outputId": "5325b9a7-6c4a-4dfd-a8ff-dd8a7ec1807f"
      },
      "execution_count": 91,
      "outputs": [
        {
          "output_type": "execute_result",
          "data": {
            "text/plain": [
              "1.0"
            ]
          },
          "metadata": {},
          "execution_count": 91
        }
      ]
    },
    {
      "cell_type": "code",
      "source": [
        "np.log10(10)"
      ],
      "metadata": {
        "colab": {
          "base_uri": "https://localhost:8080/"
        },
        "id": "1JyHBkVsxWg5",
        "outputId": "039dd7e6-df60-481b-aac2-5d7892fbf03d"
      },
      "execution_count": 92,
      "outputs": [
        {
          "output_type": "execute_result",
          "data": {
            "text/plain": [
              "1.0"
            ]
          },
          "metadata": {},
          "execution_count": 92
        }
      ]
    },
    {
      "cell_type": "code",
      "source": [
        "np.log10(50)"
      ],
      "metadata": {
        "colab": {
          "base_uri": "https://localhost:8080/"
        },
        "id": "BAewwAQNxXax",
        "outputId": "7fe8d51c-93af-4fbe-d7e7-320451cf36ef"
      },
      "execution_count": 93,
      "outputs": [
        {
          "output_type": "execute_result",
          "data": {
            "text/plain": [
              "1.6989700043360187"
            ]
          },
          "metadata": {},
          "execution_count": 93
        }
      ]
    }
  ]
}